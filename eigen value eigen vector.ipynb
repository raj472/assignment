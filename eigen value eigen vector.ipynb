{
 "cells": [
  {
   "cell_type": "code",
   "execution_count": 1,
   "id": "eb9d54f8",
   "metadata": {},
   "outputs": [
    {
     "name": "stdout",
     "output_type": "stream",
     "text": [
      "Eigenvalues:\n",
      "2\n",
      "2\n",
      "2\n",
      "\n",
      "Eigenvectors:\n",
      "[nan nan nan]\n",
      "[nan nan nan]\n",
      "[nan nan nan]\n"
     ]
    },
    {
     "name": "stderr",
     "output_type": "stream",
     "text": [
      "/tmp/ipykernel_3845/1978955381.py:24: RuntimeWarning: invalid value encountered in scalar divide\n",
      "  x[i] = augmented_matrix[i, -1] / augmented_matrix[i, i]\n"
     ]
    }
   ],
   "source": [
    "import numpy as np\n",
    "\n",
    "# Gaussian Elimination function to solve linear equations\n",
    "def gaussian_elimination(A, b):\n",
    "    n = len(A)\n",
    "    \n",
    "    # Augmenting matrix\n",
    "    augmented_matrix = np.hstack((A, b.reshape(n, 1)))\n",
    "    \n",
    "    # Forward elimination\n",
    "    for pivot_row in range(n):\n",
    "        # Partial pivoting\n",
    "        max_row = max(range(pivot_row, n), key=lambda i: abs(augmented_matrix[i, pivot_row]))\n",
    "        augmented_matrix[[pivot_row, max_row]] = augmented_matrix[[max_row, pivot_row]]\n",
    "        \n",
    "        # Making the pivot non-zero\n",
    "        for row in range(pivot_row + 1, n):\n",
    "            multiplier = augmented_matrix[row, pivot_row] / augmented_matrix[pivot_row, pivot_row]\n",
    "            augmented_matrix[row] -= multiplier * augmented_matrix[pivot_row]\n",
    "    \n",
    "    # Back substitution\n",
    "    x = np.zeros(n)\n",
    "    for i in range(n - 1, -1, -1):\n",
    "        x[i] = augmented_matrix[i, -1] / augmented_matrix[i, i]\n",
    "        for k in range(i - 1, -1, -1):\n",
    "            augmented_matrix[k, -1] -= augmented_matrix[k, i] * x[i]\n",
    "    return x\n",
    "\n",
    "# Function to find eigenvalues and eigenvectors using Gaussian elimination\n",
    "def find_eigen(A):\n",
    "    n = len(A)\n",
    "    eigenvalues = []\n",
    "    eigenvectors = []\n",
    "    for i in range(n):\n",
    "        # Constructing the augmented matrix [A - λI | 0]\n",
    "        lambda_i = np.identity(n) * A[i, i]\n",
    "        A_minus_lambdaI = A - lambda_i\n",
    "        \n",
    "        # Solving the equation (A - λI)x = 0\n",
    "        null_space_basis = gaussian_elimination(A_minus_lambdaI, np.zeros(n))\n",
    "        \n",
    "        # Eigenvalue is λ_i\n",
    "        eigenvalues.append(A[i, i])\n",
    "        \n",
    "        # Eigenvector is the solution of (A - λI)x = 0\n",
    "        eigenvectors.append(null_space_basis)\n",
    "    \n",
    "    return eigenvalues, eigenvectors\n",
    "\n",
    "# Example matrix\n",
    "A = np.array([[2, -1, 0],\n",
    "              [-1, 2, -1],\n",
    "              [0, -1, 2]])\n",
    "\n",
    "# Finding eigenvalues and eigenvectors\n",
    "eigenvalues, eigenvectors = find_eigen(A)\n",
    "\n",
    "# Displaying results\n",
    "print(\"Eigenvalues:\")\n",
    "for value in eigenvalues:\n",
    "    print(value)\n",
    "\n",
    "print(\"\\nEigenvectors:\")\n",
    "for vector in eigenvectors:\n",
    "    print(vector)\n"
   ]
  }
 ],
 "metadata": {
  "kernelspec": {
   "display_name": "Python 3 (ipykernel)",
   "language": "python",
   "name": "python3"
  },
  "language_info": {
   "codemirror_mode": {
    "name": "ipython",
    "version": 3
   },
   "file_extension": ".py",
   "mimetype": "text/x-python",
   "name": "python",
   "nbconvert_exporter": "python",
   "pygments_lexer": "ipython3",
   "version": "3.11.5"
  }
 },
 "nbformat": 4,
 "nbformat_minor": 5
}
