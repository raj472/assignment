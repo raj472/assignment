{
 "cells": [
  {
   "cell_type": "code",
   "execution_count": null,
   "id": "2de66fce",
   "metadata": {},
   "outputs": [],
   "source": [
    "# Function to calculate the mean of a list\n",
    "def calculate_mean(data):\n",
    "    return sum(data) / len(data)\n",
    "\n",
    "# Function to calculate the covariance between two lists\n",
    "def calculate_covariance(x, y):\n",
    "    mean_x = calculate_mean(x)\n",
    "    mean_y = calculate_mean(y)\n",
    "    covariance = 0\n",
    "    for i in range(len(x)):\n",
    "        covariance += (x[i] - mean_x) * (y[i] - mean_y)\n",
    "    return covariance / (len(x) - 1)\n",
    "\n",
    "# Function to calculate the correlation coefficient between two matrices\n",
    "def calculate_correlation(matrix1, matrix2):\n",
    "    num_rows = len(matrix1)\n",
    "    num_cols = len(matrix1[0])\n",
    "    correlation_matrix = []\n",
    "    for i in range(num_rows):\n",
    "        row = []\n",
    "        for j in range(num_cols):\n",
    "            covariance = calculate_covariance(matrix1[i], matrix2[j])\n",
    "            correlation_coefficient = covariance / ((calculate_covariance(matrix1[i], matrix1[i]) * calculate_covariance(matrix2[j], matrix2[j])) ** 0.5)\n",
    "            row.append(correlation_coefficient)\n",
    "        correlation_matrix.append(row)\n",
    "    return correlation_matrix\n",
    "\n",
    "# Example matrices\n",
    "matrix1 = [\n",
    "    [1, 2, 3],\n",
    "    [4, 5, 6],\n",
    "    [7, 8, 9]\n",
    "]\n",
    "\n",
    "matrix2 = [\n",
    "    [9, 8, 7],\n",
    "    [6, 5, 4],\n",
    "    [3, 2, 1]\n",
    "]\n",
    "\n",
    "# Calculate correlation between the matrices\n",
    "correlation_matrix = calculate_correlation(matrix1, matrix2)\n",
    "\n",
    "# Displaying results\n",
    "print(\"Correlation between the matrices:\")\n",
    "for row in correlation_matrix:\n",
    "    print(row)\n"
   ]
  }
 ],
 "metadata": {
  "kernelspec": {
   "display_name": "Python 3 (ipykernel)",
   "language": "python",
   "name": "python3"
  },
  "language_info": {
   "codemirror_mode": {
    "name": "ipython",
    "version": 3
   },
   "file_extension": ".py",
   "mimetype": "text/x-python",
   "name": "python",
   "nbconvert_exporter": "python",
   "pygments_lexer": "ipython3",
   "version": "3.11.5"
  }
 },
 "nbformat": 4,
 "nbformat_minor": 5
}
